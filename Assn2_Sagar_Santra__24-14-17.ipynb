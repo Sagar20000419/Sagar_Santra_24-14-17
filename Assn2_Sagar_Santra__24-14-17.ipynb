{
 "cells": [
  {
   "cell_type": "markdown",
   "id": "b4d48ee8-4e02-4db5-9548-73401446fe6f",
   "metadata": {},
   "source": [
    "## Assignment 2\n",
    "## Name: Sagar Santra\n",
    "## Reg. No. : 24-14-17\n",
    "## Course: Modelling And Simulation"
   ]
  },
  {
   "cell_type": "markdown",
   "id": "2895150a-f2fd-4059-b362-8464be5213f6",
   "metadata": {},
   "source": [
    "### Q1"
   ]
  },
  {
   "cell_type": "markdown",
   "id": "751959fc-1824-4a69-a19b-fb5b866605d5",
   "metadata": {},
   "source": [
    "### a) Create a variable named var1 that stores an array of numbers from 0 to 30,inclusive. Print var1 and its shape. Hint : arange\n",
    "### b) Change var2 to a validly-shaped two-dimensional matrix and store it in a new variable called var2. Print var2 and its shape. Hint: Use the reshape function\n",
    "### c) Create a third variable, var3 that reshapes it into a valid three-dimensional shape.Print var3 and its shape.\n",
    "### d) Use two-dimensional array indexing to set the first value in the second row of var2 to -1. Now look at var1 and var3. Did they change? Explain what’s going on. (Hint: does reshape return a view or a copy?)\n",
    "### e) Another thing that comes up a lot with array shapes is thinking about how to aggregate over specific dimensions. Figure out how the NumPy sum function works (and the axis argument in particular) and do the following:\n",
    "(i) Sum var3 over its second dimension and print the result.\n",
    "(ii) Sum var3 over its third dimension and print the result.\n",
    "(iii) Sum var3 over both its first and third dimensions and print the result.\n",
    "### f) Write code to do the following:\n",
    "(i) Slice out the second row of var2 and print it.\n",
    "(ii) Slice out the last column of var2 using the -1 notation and print it.\n",
    "(iii) Slice out the top right 2 × 2 submatrix of var2 and print it."
   ]
  },
  {
   "cell_type": "code",
   "execution_count": 2,
   "id": "0273e2b6-1c3b-492a-ae79-deb69022adc6",
   "metadata": {},
   "outputs": [
    {
     "name": "stdout",
     "output_type": "stream",
     "text": [
      "[ 0  1  2  3  4  5  6  7  8  9 10 11 12 13 14 15 16 17 18 19 20 21 22 23\n",
      " 24 25 26 27 28 29 30]\n",
      "Shape of Var1: (31,)\n",
      "Dimension of Var1: 1\n"
     ]
    }
   ],
   "source": [
    "import numpy as np\n",
    "var1=np.arange(31)\n",
    "print(var1)\n",
    "print(\"Shape of Var1:\",var1.shape)\n",
    "print(\"Dimension of Var1:\",var1.ndim)\n"
   ]
  },
  {
   "cell_type": "code",
   "execution_count": 3,
   "id": "47a00ce0-00bd-4f6a-ac60-01ab7e7724b2",
   "metadata": {},
   "outputs": [
    {
     "name": "stdout",
     "output_type": "stream",
     "text": [
      "var2\n",
      "[[ 1  2  3  4  5  6  7  8  9 10 11 12 13 14 15]\n",
      " [16 17 18 19 20 21 22 23 24 25 26 27 28 29 30]]\n",
      "Shape of Var2: (2, 15)\n",
      "Dimension of Var2: 2\n"
     ]
    }
   ],
   "source": [
    "new_array=np.delete(var1,0)\n",
    "var2=new_array.reshape(2,-1)\n",
    "print(\"var2\")\n",
    "print(var2)\n",
    "print(\"Shape of Var2:\",var2.shape)\n",
    "print(\"Dimension of Var2:\",var2.ndim)"
   ]
  },
  {
   "cell_type": "code",
   "execution_count": 4,
   "id": "a7e73429-781f-42c7-8d48-403aa07c1102",
   "metadata": {},
   "outputs": [
    {
     "name": "stdout",
     "output_type": "stream",
     "text": [
      "var3\n",
      "[[[ 1  2  3  4  5  6  7  8  9 10 11 12 13 14 15]]\n",
      "\n",
      " [[16 17 18 19 20 21 22 23 24 25 26 27 28 29 30]]]\n",
      "Shape of Var3: (2, 1, 15)\n",
      "Dimension of Var3: 3\n"
     ]
    }
   ],
   "source": [
    "var3=var2.reshape(var2.shape[0],-1,var2.shape[1])\n",
    "print(\"var3\")\n",
    "print(var3)\n",
    "print(\"Shape of Var3:\",var3.shape)\n",
    "print(\"Dimension of Var3:\",var3.ndim)"
   ]
  },
  {
   "cell_type": "code",
   "execution_count": 5,
   "id": "84631069-efab-4ee9-921f-c5feecd1f63b",
   "metadata": {},
   "outputs": [
    {
     "name": "stdout",
     "output_type": "stream",
     "text": [
      "\n",
      "Modified var2 after setting the first value in the second row to -1:\n",
      "[[ 1  2  3  4  5  6  7  8  9 10 11 12 13 14 15]\n",
      " [-1 17 18 19 20 21 22 23 24 25 26 27 28 29 30]]\n",
      "var1 [ 0  1  2  3  4  5  6  7  8  9 10 11 12 13 14 15 16 17 18 19 20 21 22 23\n",
      " 24 25 26 27 28 29 30]\n",
      "var3 [[[ 1  2  3  4  5  6  7  8  9 10 11 12 13 14 15]]\n",
      "\n",
      " [[-1 17 18 19 20 21 22 23 24 25 26 27 28 29 30]]]\n"
     ]
    }
   ],
   "source": [
    "var2[1,0]=-1\n",
    "print(\"\\nModified var2 after setting the first value in the second row to -1:\")\n",
    "print(var2)\n",
    "print(\"var1\",var1)\n",
    "print(\"var3\",var3)"
   ]
  },
  {
   "cell_type": "code",
   "execution_count": 6,
   "id": "72f1db18-12a0-4d11-a7f8-ca0e96b64e70",
   "metadata": {},
   "outputs": [
    {
     "name": "stdout",
     "output_type": "stream",
     "text": [
      "Sum over the second dimension:\n",
      " [[ 1  2  3  4  5  6  7  8  9 10 11 12 13 14 15]\n",
      " [-1 17 18 19 20 21 22 23 24 25 26 27 28 29 30]]\n"
     ]
    }
   ],
   "source": [
    "sum_second = np.sum(var3, axis=1)\n",
    "print(\"Sum over the second dimension:\\n\", sum_second)\n"
   ]
  },
  {
   "cell_type": "code",
   "execution_count": 7,
   "id": "f40f9338-978b-4faf-8480-e0d68f9dc04e",
   "metadata": {},
   "outputs": [
    {
     "name": "stdout",
     "output_type": "stream",
     "text": [
      "Sum over the second dimension:\n",
      " [[120]\n",
      " [328]]\n"
     ]
    }
   ],
   "source": [
    "sum_third= np.sum(var3, axis=2)\n",
    "print(\"Sum over the second dimension:\\n\", sum_third)\n"
   ]
  },
  {
   "cell_type": "code",
   "execution_count": 27,
   "id": "c1137eb0-2b95-4221-84a6-f66ee3555604",
   "metadata": {},
   "outputs": [
    {
     "name": "stdout",
     "output_type": "stream",
     "text": [
      "Sum over the second dimension:\n",
      " [448]\n"
     ]
    }
   ],
   "source": [
    "sum_fist_third= np.sum(var3, axis=(0,2))\n",
    "print(\"Sum over the second dimension:\\n\", sum_fist_third)"
   ]
  },
  {
   "cell_type": "code",
   "execution_count": 8,
   "id": "a01cc2c9-ae92-420c-b2be-d152bdfa306e",
   "metadata": {},
   "outputs": [
    {
     "name": "stdout",
     "output_type": "stream",
     "text": [
      "var2\n",
      "[[ 1  2  3  4  5  6  7  8  9 10 11 12 13 14 15]\n",
      " [-1 17 18 19 20 21 22 23 24 25 26 27 28 29 30]]\n",
      "Second Row is : [[-1 17 18 19 20 21 22 23 24 25 26 27 28 29 30]]\n"
     ]
    }
   ],
   "source": [
    "print(\"var2\")\n",
    "print(var2)\n",
    "print(\"Second Row is :\",var2[1:2])"
   ]
  },
  {
   "cell_type": "code",
   "execution_count": 9,
   "id": "48bc4b68-8b22-481f-8fca-d4f945ff098d",
   "metadata": {},
   "outputs": [
    {
     "name": "stdout",
     "output_type": "stream",
     "text": [
      "Last Column of var2 is:\n",
      "[[15]\n",
      " [30]]\n"
     ]
    }
   ],
   "source": [
    "print(\"Last Column of var2 is:\")\n",
    "print(var2[ :,-1:])"
   ]
  },
  {
   "cell_type": "code",
   "execution_count": 10,
   "id": "c9728219-87b8-4613-9ba2-f4db6ba310a6",
   "metadata": {},
   "outputs": [
    {
     "name": "stdout",
     "output_type": "stream",
     "text": [
      "The top right 2x2 matrix is :\n",
      "[[14 15]\n",
      " [29 30]]\n"
     ]
    }
   ],
   "source": [
    "print(\"The top right 2x2 matrix is :\")\n",
    "print(var2[0:2,13:])"
   ]
  },
  {
   "cell_type": "markdown",
   "id": "86a8d1aa-fe8f-444e-9616-faa6cd28a11d",
   "metadata": {},
   "source": [
    "### Q2"
   ]
  },
  {
   "cell_type": "markdown",
   "id": "1683bf76-d832-4a0c-9776-283e819cd7b9",
   "metadata": {},
   "source": [
    "## a) The most basic kind of broadcast is with a scalar, in which you can perform a binary operation (e.g., add, multiply, ...) on an array and a scalar, the effect is to perform that operation with the scalar for every element of the array. To try this out, create a vector 1, 2, . . . , 10 by adding 1 to the result of the arange function.\n",
    "## b) Now, create a 10 × 10 matrix A in which Ai j = i + j. You’ll be able to do this using the vector you just created, and adding it to a reshaped version of itself.\n",
    "## c) A very common use of broadcasting is to standardize data, i.e., to make it have zero mean and unit variance. First, create a fake “data set” with 50 examples,each with five dimensions.\n",
    "## import numpy.random as npr\n",
    "## data = np.exp(npr.randn ( 50 , 5 ) )\n",
    "## d) You don’t worry too much about what this code is doing at this stage of the course, but for completeness: it imports the NumPy random number generation library, then generates a 50 × 5 matrix of standard normal\n",
    "## e) Now, compute the mean and standard deviation of each column. This should result in two vectors of length 5. You’ll need to think a little bit about how to use the axis argument to mean and std. Store these vectors into variables and print both of them.\n",
    "## f) Now standardize the data matrix by 1) subtracting the mean off of each column,and 2) dividing each column by its standard deviation. Do this via broadcasting,and store the result in a matrix called normalized. To verify that you successfullydid it, compute the mean and standard deviation ofthe columns of normalized and print them out.\n"
   ]
  },
  {
   "cell_type": "code",
   "execution_count": 11,
   "id": "a463993e-91a5-4fdf-b990-19fead1f3069",
   "metadata": {},
   "outputs": [
    {
     "name": "stdout",
     "output_type": "stream",
     "text": [
      "[ 1  2  3  4  5  6  7  8  9 10]\n"
     ]
    }
   ],
   "source": [
    "vector=np.arange(0,10)\n",
    "vector+=1\n",
    "print(vector)"
   ]
  },
  {
   "cell_type": "code",
   "execution_count": 12,
   "id": "d54b0db7-57c4-459f-b6f2-58e12898c8e5",
   "metadata": {},
   "outputs": [
    {
     "name": "stdout",
     "output_type": "stream",
     "text": [
      "The required 10x10 matrix is\n",
      "A=\n",
      "[[ 2  3  4  5  6  7  8  9 10 11]\n",
      " [ 3  4  5  6  7  8  9 10 11 12]\n",
      " [ 4  5  6  7  8  9 10 11 12 13]\n",
      " [ 5  6  7  8  9 10 11 12 13 14]\n",
      " [ 6  7  8  9 10 11 12 13 14 15]\n",
      " [ 7  8  9 10 11 12 13 14 15 16]\n",
      " [ 8  9 10 11 12 13 14 15 16 17]\n",
      " [ 9 10 11 12 13 14 15 16 17 18]\n",
      " [10 11 12 13 14 15 16 17 18 19]\n",
      " [11 12 13 14 15 16 17 18 19 20]]\n"
     ]
    }
   ],
   "source": [
    "A=vector[:,np.newaxis]+vector\n",
    "print(\"The required 10x10 matrix is\")\n",
    "print(\"A=\")\n",
    "print(A)"
   ]
  },
  {
   "cell_type": "code",
   "execution_count": 13,
   "id": "50893547-110d-47ef-b6da-6838474503e6",
   "metadata": {},
   "outputs": [
    {
     "name": "stdout",
     "output_type": "stream",
     "text": [
      "[[ 0.33993817  0.30915866  0.5716007   0.2731089   2.29491176]\n",
      " [ 3.84809843  0.57759076  2.29956969  3.75107982  0.08510464]\n",
      " [ 1.30719762  2.74977958  1.16025764  2.13067655  5.70980569]\n",
      " [ 1.01722142  1.29337725  1.61535638  0.3444222   3.36648871]\n",
      " [ 0.34785728  0.78894805  3.14404954  0.97301919  0.97406954]\n",
      " [ 1.57429951  0.30414943  1.02778999  1.79668546  0.98041046]\n",
      " [ 2.64939687  1.2074581   1.17940029  0.57524055  0.73671741]\n",
      " [ 1.47150295  7.80145902  0.1293597   0.30647409  2.95388834]\n",
      " [ 0.04085523  2.11970838  1.29399846  1.00567268  0.33637585]\n",
      " [ 0.71048532  2.00252373  1.01977477  0.5179186   0.80747904]\n",
      " [ 1.04932511  0.58863184  8.43492051  4.53664239  0.8586704 ]\n",
      " [ 0.67774361  0.63425675  0.56710567  1.02221031  0.59913518]\n",
      " [ 0.76135937  1.79861329  5.41578661  0.81708122  0.35108102]\n",
      " [ 0.45483449  0.31132533  1.1654289   0.59837608  0.31341208]\n",
      " [ 1.3187512   1.03966362  1.90652651  0.34237939  1.74596056]\n",
      " [ 1.25335223  0.35186093  2.29234183  0.97711321  0.73081505]\n",
      " [ 5.51720978  0.97611153  3.62431004  1.31131737  0.44283612]\n",
      " [ 0.45623505  2.7001345   1.40994693  1.22171122  3.07423013]\n",
      " [ 1.15422511  0.39831204  1.11096673  2.28533834  1.0333375 ]\n",
      " [ 3.24291619  0.52582946  0.59318778  0.4999816   0.24508654]\n",
      " [ 0.2575755   0.90001584  0.78213305  0.8626292   0.20366528]\n",
      " [ 0.67552455  0.14974598  6.51068413  0.41810095  1.76662678]\n",
      " [ 0.68640085  5.3892652   0.20802452  2.83272279  2.29472632]\n",
      " [ 2.85990042  1.3412199   2.68452567  2.10118697  0.95200654]\n",
      " [ 1.36718233  0.83629058  1.71596963  3.44374433  0.26844197]\n",
      " [ 0.92148499  2.14792177  1.32579695  0.81862731  1.56023249]\n",
      " [ 1.20430582  0.12007177  0.45781505  0.82293528  0.38177829]\n",
      " [ 1.23629635  0.49765461  0.32065687  1.67953835  0.46050446]\n",
      " [ 0.27351069  0.76327828  5.80317963  0.58078517  1.93787731]\n",
      " [ 1.81670168  0.2530429   0.65782864  0.48475253  2.52319552]\n",
      " [ 0.62161068  0.31380721  1.47348808  4.97582738  9.35168001]\n",
      " [ 1.97933799  0.48373249  0.54527381  1.7189529   0.767447  ]\n",
      " [ 0.7861934   0.40964033  2.81240959  3.77673418  0.22368259]\n",
      " [ 2.93528777  1.12341897  5.67169908  2.75589738  0.81275431]\n",
      " [ 2.10305706  0.48785166  2.17512141  0.36085207  1.21532279]\n",
      " [ 0.74233669  3.69394418  0.30032337  1.319317    0.4227335 ]\n",
      " [ 0.36685828  0.28880433  3.30041032  1.00686683  0.84798466]\n",
      " [ 0.27946419  6.79197581  4.92242154  0.395381    0.61841126]\n",
      " [ 3.58909844  1.13131662  3.2827976   0.47707671  0.69844305]\n",
      " [ 1.45733074  0.7555557   0.55577778  1.45537732  0.3050608 ]\n",
      " [ 1.32622758  0.77743922  0.972948    3.26044846  0.26351826]\n",
      " [ 0.82873685  0.76723815  0.50312902  0.81655864  0.68543838]\n",
      " [ 1.28011698  0.46331621  0.1655252   0.76987785  2.80477938]\n",
      " [ 0.92253752  0.96895447  0.79886958  1.44288353  1.27675935]\n",
      " [ 4.49075287  2.48371845  1.79526931  0.71063701  0.6038011 ]\n",
      " [ 0.94728506  7.01793374  1.89486513  4.38120446 22.79559318]\n",
      " [ 3.69505102  5.10906209  1.77946186  0.6747636   0.56977431]\n",
      " [ 0.47348192  1.19483393  3.80213334  0.17495055  0.4425994 ]\n",
      " [ 0.10991686  0.96324493  0.30315976  0.76837389  0.57459931]\n",
      " [ 0.89358054  0.85738932  2.096435    0.36932056  0.57458528]]\n"
     ]
    }
   ],
   "source": [
    "import numpy.random as npr\n",
    "data = np.exp(npr.randn ( 50 , 5 ) )\n",
    "print(data)"
   ]
  },
  {
   "cell_type": "code",
   "execution_count": 14,
   "id": "2c824f50-16a1-4664-a74b-ddb6fe677d1a",
   "metadata": {},
   "outputs": [
    {
     "name": "stdout",
     "output_type": "stream",
     "text": [
      "Mean of each column: [2.43704959 1.75716744 1.90721006 1.23577953 1.29555199]\n",
      "Standard deviation of each column: [3.24547466 2.08846286 1.94543991 1.46034244 1.34453848]\n"
     ]
    }
   ],
   "source": [
    "\n",
    "data = np.random.normal(size=(50, 5))\n",
    "log_normal_data = np.exp(data)\n",
    "mean_vector = np.mean(log_normal_data, axis=0)\n",
    "std_vector = np.std(log_normal_data, axis=0)\n",
    "print(\"Mean of each column:\", mean_vector)\n",
    "print(\"Standard deviation of each column:\", std_vector)\n"
   ]
  },
  {
   "cell_type": "code",
   "execution_count": 15,
   "id": "89719560-c01d-412c-9832-a580fcf2d734",
   "metadata": {},
   "outputs": [
    {
     "name": "stdout",
     "output_type": "stream",
     "text": [
      "Mean of each column in normalized data: [ 1.33226763e-16 -5.24025268e-16 -2.04281037e-16  3.61932706e-16\n",
      "  4.10782519e-17]\n",
      "Standard deviation of each column in normalized data: [1. 1. 1. 1. 1.]\n"
     ]
    }
   ],
   "source": [
    "data = np.random.normal(size=(50, 5))\n",
    "log_normal_data = np.exp(data)\n",
    "mean_vector = np.mean(log_normal_data, axis=0)\n",
    "std_vector = np.std(log_normal_data, axis=0)\n",
    "normalized = (log_normal_data - mean_vector) / std_vector\n",
    "normalized_mean = np.mean(normalized, axis=0)\n",
    "normalized_std = np.std(normalized, axis=0)\n",
    "print(\"Mean of each column in normalized data:\", normalized_mean)\n",
    "print(\"Standard deviation of each column in normalized data:\", normalized_std)"
   ]
  },
  {
   "cell_type": "markdown",
   "id": "075ad743-09db-4694-a16d-ed6f6b907876",
   "metadata": {},
   "source": [
    "### Q3\n",
    "## a) A Vandermonde matrix is a matrix generated from a vector in which each column of the matrix is an integer power starting from zero. So, if I have a column vector [x1, x2, . . . , xN]T , then the associated (square) Vandermonde matrix would be Use what you learned about broadcasting in the previous problem to write a function that will produce a Vandermonde matrix for a vector [1, 2, . . . ,N]T for any N. Do it without using a loop. Here’s a stub to get you started:\n",
    "## def vandermonde (N):\n",
    "## vec = np.arange (N) +1\n",
    " # write your code here .\n",
    "## Use your function for N = 12, store it in variable named vander, and print the result.\n",
    "## b) Now, let’s make a pretend linear system problem with this matrix. Create a vector of all ones, of length 12 and call it x. Perform a matrix-vector multiplication of vander with the vector you just created and store that in a new vector and call it b. Print the vector b.\n",
    "## c) First, solve the linear system the naïve way, pretending like you don’t know x. Import numpy.linalg, invert V and multiply it by b. Print out your result. What should you get for your answer? If the answer is different than what you expected, write a sentence about that difference.\n",
    "## d) Now, solve the same linear system using solve. Print out the result. Does it seem more or less in line with what you’d expect?"
   ]
  },
  {
   "cell_type": "code",
   "execution_count": 16,
   "id": "203070c6-863c-4404-a7d3-160f0fb5abc6",
   "metadata": {},
   "outputs": [
    {
     "name": "stdout",
     "output_type": "stream",
     "text": [
      "[[           1            1            1            1            1\n",
      "             1            1            1            1            1\n",
      "             1            1]\n",
      " [           1            2            4            8           16\n",
      "            32           64          128          256          512\n",
      "          1024         2048]\n",
      " [           1            3            9           27           81\n",
      "           243          729         2187         6561        19683\n",
      "         59049       177147]\n",
      " [           1            4           16           64          256\n",
      "          1024         4096        16384        65536       262144\n",
      "       1048576      4194304]\n",
      " [           1            5           25          125          625\n",
      "          3125        15625        78125       390625      1953125\n",
      "       9765625     48828125]\n",
      " [           1            6           36          216         1296\n",
      "          7776        46656       279936      1679616     10077696\n",
      "      60466176    362797056]\n",
      " [           1            7           49          343         2401\n",
      "         16807       117649       823543      5764801     40353607\n",
      "     282475249   1977326743]\n",
      " [           1            8           64          512         4096\n",
      "         32768       262144      2097152     16777216    134217728\n",
      "    1073741824   8589934592]\n",
      " [           1            9           81          729         6561\n",
      "         59049       531441      4782969     43046721    387420489\n",
      "    3486784401  31381059609]\n",
      " [           1           10          100         1000        10000\n",
      "        100000      1000000     10000000    100000000   1000000000\n",
      "   10000000000 100000000000]\n",
      " [           1           11          121         1331        14641\n",
      "        161051      1771561     19487171    214358881   2357947691\n",
      "   25937424601 285311670611]\n",
      " [           1           12          144         1728        20736\n",
      "        248832      2985984     35831808    429981696   5159780352\n",
      "   61917364224 743008370688]]\n"
     ]
    }
   ],
   "source": [
    "def vandermonde(N):\n",
    "    vec = np.arange(N) + 1\n",
    "    return vec[:, None] ** np.arange(N)\n",
    "vander = vandermonde(12)\n",
    "print(vander)"
   ]
  },
  {
   "cell_type": "code",
   "execution_count": 18,
   "id": "b4aeee04-d4fa-4796-b27b-1d59c6a25bbd",
   "metadata": {},
   "outputs": [
    {
     "name": "stdout",
     "output_type": "stream",
     "text": [
      "[1. 1. 1. 1. 1. 1. 1. 1. 1. 1. 1. 1.]\n",
      "[1.20000000e+01 4.09500000e+03 2.65720000e+05 5.59240500e+06\n",
      " 6.10351560e+07 4.35356467e+08 2.30688120e+09 9.81706810e+09\n",
      " 3.53036921e+10 1.11111111e+11 3.13842838e+11 8.10554586e+11]\n"
     ]
    }
   ],
   "source": [
    "import numpy as np\n",
    "N = 12\n",
    "x = np.ones(N)\n",
    "print(x)\n",
    "b = np.dot(vander,x)\n",
    "print(b)"
   ]
  },
  {
   "cell_type": "code",
   "execution_count": 19,
   "id": "d711847b-f485-44ca-92cf-6f670e2da6cc",
   "metadata": {},
   "outputs": [
    {
     "name": "stdout",
     "output_type": "stream",
     "text": [
      "[-12.26953125   5.90625     15.421875    -6.03515625   2.05859375\n",
      "   0.92675781   1.00244141   1.00010681   0.99997711   1.00000131\n",
      "   0.99999996   1.        ]\n"
     ]
    }
   ],
   "source": [
    "from numpy.linalg import inv\n",
    "x_estimated =np.dot(inv(vander),b)\n",
    "print(x_estimated)"
   ]
  },
  {
   "cell_type": "code",
   "execution_count": 26,
   "id": "9e21f7ba-f1a2-4545-a0a8-af8e0a9d5023",
   "metadata": {},
   "outputs": [
    {
     "name": "stdout",
     "output_type": "stream",
     "text": [
      "[0.98080503 1.05139768 0.94513807 1.03151945 0.98899166 1.00248816\n",
      " 0.99962407 1.0000384  0.99999737 1.00000012 1.         1.        ]\n"
     ]
    }
   ],
   "source": [
    "x_solved = np.linalg.solve(vander, b)\n",
    "print(x_solved)"
   ]
  }
 ],
 "metadata": {
  "kernelspec": {
   "display_name": "Python 3 (ipykernel)",
   "language": "python",
   "name": "python3"
  },
  "language_info": {
   "codemirror_mode": {
    "name": "ipython",
    "version": 3
   },
   "file_extension": ".py",
   "mimetype": "text/x-python",
   "name": "python",
   "nbconvert_exporter": "python",
   "pygments_lexer": "ipython3",
   "version": "3.12.4"
  }
 },
 "nbformat": 4,
 "nbformat_minor": 5
}
